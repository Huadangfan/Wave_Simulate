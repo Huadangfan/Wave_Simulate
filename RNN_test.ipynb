{
 "cells": [
  {
   "cell_type": "code",
   "execution_count": 46,
   "id": "fb0edb1d-a2eb-4296-a5a2-64115f66d4d2",
   "metadata": {},
   "outputs": [],
   "source": [
    "import torch\n",
    "from torch import nn\n",
    "import numpy as np\n",
    "import matplotlib\n",
    "import matplotlib.pyplot as plt\n",
    "from IPython import display\n",
    "\n",
    "#matplotlib.use(\"nbagg\")"
   ]
  },
  {
   "cell_type": "code",
   "execution_count": 47,
   "id": "312787bd-9c76-474e-928e-121c891071cd",
   "metadata": {},
   "outputs": [
    {
     "data": {
      "text/plain": [
       "<torch._C.Generator at 0x1dbf7b7adb0>"
      ]
     },
     "execution_count": 47,
     "metadata": {},
     "output_type": "execute_result"
    }
   ],
   "source": [
    "torch.manual_seed(2021)"
   ]
  },
  {
   "cell_type": "code",
   "execution_count": 48,
   "id": "e15f6861-0313-4ffe-a731-dc50d2ff3c06",
   "metadata": {},
   "outputs": [],
   "source": [
    "TIME_STEP = 20   # lenght of data\n",
    "INPUT_SIZE = 1   # input size\n",
    "INIT_LR = 0.02\n",
    "N_EPOCHS = 100"
   ]
  },
  {
   "cell_type": "code",
   "execution_count": 49,
   "id": "441f4779-914c-402f-bac9-1cb0583f788f",
   "metadata": {},
   "outputs": [],
   "source": [
    "class myRNN(nn.Module):\n",
    "    def __init__(self):\n",
    "        super(myRNN, self).__init__()\n",
    "        self.rnn = nn.RNN(\n",
    "            input_size = INPUT_SIZE,\n",
    "            hidden_size = 32,  # hidden layers size\n",
    "            num_layers = 1     # hidden layers number\n",
    "        )\n",
    "        self.out = nn.Linear(32, 1)\n",
    "        \n",
    "    def forward(self, x, h):\n",
    "        # x: (time_step, batch_size, input_size)\n",
    "        # h: (n_layers, batch, hidden_size)\n",
    "        # out: (time_step, batch_size, hidden_size)\n",
    "        output, h = self.rnn(x, h)\n",
    "        prediction = self.out(output)\n",
    "        return prediction, h"
   ]
  },
  {
   "cell_type": "code",
   "execution_count": 50,
   "id": "461ea742-731e-4448-8057-445b1db4364f",
   "metadata": {},
   "outputs": [
    {
     "name": "stdout",
     "output_type": "stream",
     "text": [
      "myRNN(\n",
      "  (rnn): RNN(1, 32)\n",
      "  (out): Linear(in_features=32, out_features=1, bias=True)\n",
      ")\n"
     ]
    }
   ],
   "source": [
    "rnn = myRNN()\n",
    "rnn = rnn.double()\n",
    "print(rnn)"
   ]
  },
  {
   "cell_type": "code",
   "execution_count": 51,
   "id": "eb06190b-ff52-4587-afb7-c9b3d4378005",
   "metadata": {},
   "outputs": [],
   "source": [
    "optimizer = torch.optim.Adam(rnn.parameters(), lr=INIT_LR)\n",
    "loss_func = nn.MSELoss()\n",
    "h_state = None"
   ]
  },
  {
   "cell_type": "code",
   "execution_count": 53,
   "id": "c1ac20e2-24f4-4267-8875-7748ca162799",
   "metadata": {},
   "outputs": [
    {
     "data": {
      "image/png": "[encoded data removed]",
      "text/plain": [
       "<Figure size 432x288 with 1 Axes>"
      ]
     },
     "metadata": {
      "needs_background": "light"
     },
     "output_type": "display_data"
    }
   ],
   "source": [
    "#%matplotlib widget\n",
    "plt.figure(figsize=(5,5))\n",
    "#ax = plt.subplot(111)\n",
    "plt.ion()\n",
    "for step in range(N_EPOCHS):\n",
    "    start, end = step*np.pi, (step + 1)*np.pi\n",
    "    steps = np.linspace(start, end, TIME_STEP, endpoint=False)\n",
    "    x_np = np.sin(steps)\n",
    "    y_np = np.cos(steps)\n",
    "    x = torch.from_numpy(x_np[:, np.newaxis, np.newaxis]) # size: (time_step, batch=1, inputsize=1)\n",
    "    y = torch.from_numpy(y_np[:, np.newaxis, np.newaxis])\n",
    "    \n",
    "    prediction, h_state = rnn(x, h_state)\n",
    "    h_state = h_state.detach()\n",
    "    loss = loss_func(prediction, y)\n",
    "    optimizer.zero_grad()\n",
    "    loss.backward()\n",
    "    optimizer.step()\n",
    "    \n",
    "    # plot the middle result\n",
    "    plt.cla() # clear axis\n",
    "    plt.plot(steps, y_np, 'r-', label='Ground True')\n",
    "    plt.plot(steps, prediction.data.numpy().flatten(), 'b-', label='Prediction')\n",
    "    plt.title(f'time step: {step}')\n",
    "    plt.legend(loc=5)\n",
    "    plt.draw()\n",
    "    plt.pause(0.1)\n",
    "    display.clear_output(wait=True)\n",
    "    \n",
    "plt.ioff()\n",
    "plt.show()"
   ]
  },
  {
   "cell_type": "code",
   "execution_count": null,
   "id": "53ed7f7e-fc51-4bd5-a0c8-23ce09ed923f",
   "metadata": {},
   "outputs": [],
   "source": []
  }
 ],
 "metadata": {
  "kernelspec": {
   "display_name": "Python 3",
   "language": "python",
   "name": "python3"
  },
  "language_info": {
   "codemirror_mode": {
    "name": "ipython",
    "version": 3
   },
   "file_extension": ".py",
   "mimetype": "text/x-python",
   "name": "python",
   "nbconvert_exporter": "python",
   "pygments_lexer": "ipython3",
   "version": "3.8.8"
  }
 },
 "nbformat": 4,
 "nbformat_minor": 5
}
