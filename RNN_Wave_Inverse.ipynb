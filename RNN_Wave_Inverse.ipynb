{
 "cells": [
  {
   "cell_type": "code",
   "execution_count": 32,
   "id": "ba8701d3-0ba6-42c7-83e3-eb8d3480f818",
   "metadata": {},
   "outputs": [],
   "source": [
    "import torch\n",
    "from torch import nn\n",
    "from torch.nn import functional as F\n",
    "from torch.nn import Module, Parameter\n",
    "import numpy as np\n",
    "import math\n",
    "from IPython import display"
   ]
  },
  {
   "cell_type": "code",
   "execution_count": 33,
   "id": "06526079-3296-40a4-89d9-96a995a681b9",
   "metadata": {},
   "outputs": [],
   "source": [
    "def ricker(freq, length, dt, peak_time):\n",
    "    \"\"\"Return a Ricker wavelet with the specified central frequency.\n",
    "    Args:\n",
    "        freq: A float specifying the central frequency\n",
    "        length: An int specifying the number of time samples\n",
    "        dt: A float specifying the time sample spacing\n",
    "        peak_time: A float specifying the time (in secs) of the peak amplitude\n",
    "        dtype: The PyTorch datatype to use. Optional, defaults to default.\n",
    "    \"\"\"\n",
    "    t = np.arange(0,length)*dt - peak_time\n",
    "    y = (1-2*math.pi**2 * freq**2 * t**2) * np.exp(-math.pi**2 * freq**2 * t**2)\n",
    "    return y"
   ]
  },
  {
   "cell_type": "code",
   "execution_count": 34,
   "id": "355e1131-2264-469c-83d6-8e2c8cd10b3d",
   "metadata": {},
   "outputs": [],
   "source": [
    "class RNNCell_FD(Module):\n",
    "    def __init__(self, dx, dt, isrc, ir, nx, vel):\n",
    "        super(RNNCell_FD, self).__init__()\n",
    "        self.dx = dx\n",
    "        self.ir = ir\n",
    "        self.isrc = isrc\n",
    "        self.nx = nx\n",
    "        self.dt = dt\n",
    "        kernel = [1/(dx**2), -2/(dx**2), 1/(dx**2)]\n",
    "        kernel = torch.FloatTensor(kernel).unsqueeze(0).unsqueeze(0)\n",
    "        vel_init = vel**2 * self.dt\n",
    "        vel_init = vel_init.unsqueeze(0).unsqueeze(0)\n",
    "        self.vel = Parameter(data=vel_init, requires_grad=True)\n",
    "        self.weight_conv = Parameter(data=kernel, requires_grad=False)\n",
    "        \n",
    "        \n",
    "    def forward(self, input, h_current, h_old):\n",
    "        #vel = self.vel\n",
    "        if vel.shape[-1] != self.nx:\n",
    "            print(f'[ERROR]: velocity model length {vel.shape[-1]} != {nx}!')\n",
    "            pause\n",
    "        d2px = F.conv1d(h_current, self.weight_conv)\n",
    "        if d2px.shape[-1] != self.nx and (self.nx - d2px.shape[-1]) % 2 == 0:\n",
    "            padd = int((self.nx - d2px.shape[-1]) / 2)\n",
    "            d2pxx = F.pad(d2px, (padd, padd))\n",
    "            pure_d2px = d2pxx * self.vel *self.dt\n",
    "        else:\n",
    "            print(f'[ERROR]: Conv lenght {nx} - {d2px.shape[-1]} ={self.nx - d2px.shape[-1]} !')\n",
    "            pure_d2px = d2px * self.vel * self.dt\n",
    "        \n",
    "        vel_value = torch.tensor(0.0, requires_grad=True)\n",
    "        local_vel = torch.sqrt(self.vel[0,0,-1] / self.dt) + vel_value\n",
    "        \n",
    "        # h_next = d2px * self.dt**2 * vel**2 - h_old + 2 * h_current\n",
    "        h_next = pure_d2px - h_old + 2 * h_current\n",
    "        # source term:\n",
    "        source_factor = torch.zeros(1,1,self.nx, requires_grad=True)\n",
    "        source_factor_deta = source_factor.detach()\n",
    "        source_factor_deta[0,0,self.isrc] = input * self.dt**2 * 1 / self.dx * self.vel[0,0,self.isrc]**2\n",
    "        h_next_plus_sr = h_next + source_factor\n",
    "        \n",
    "        # h_next[0,0,self.isrc] = h_next[0,0,self.isrc] + input * self.dt**2 * 1 / self.dx\n",
    "        \n",
    "        # bound\n",
    "        value = h_next_plus_sr[0,0,-2] - 1/local_vel * (h_next_plus_sr[0,0,-2] - h_current[0,0,-2])*self.dx/self.dt\n",
    "        ttmp = torch.zeros(1,1,self.nx, requires_grad=True)\n",
    "        ttmp_deta = ttmp.detach()\n",
    "        ttmp_deta[0,0,-1] = value\n",
    "        tmp = torch.ones(1,1,self.nx, requires_grad=True)   # auxiliary tensor\n",
    "        tmp_tmp = tmp.detach()\n",
    "        tmp_tmp[0,0,-1] = 0\n",
    "        h_next_plus_sr_bd = h_next_plus_sr * tmp + ttmp\n",
    "\n",
    "        # h_next[0,0,-1] = h_next[0,0,-2] - 1/local_vel * (h_next[0,0,-2] - h_current[0,0,-2])*self.dx/self.dt\n",
    "        tmp_zero = torch.ones(1,1,self.nx, requires_grad=True)\n",
    "        tmp_zero_deta = tmp_zero.detach()\n",
    "        tmp_zero_deta[0,0,0] = 0\n",
    "        h_next_plus_sr_bd_total = h_next_plus_sr_bd * tmp_zero\n",
    "        delta_r = torch.zeros(nx,1,requires_grad=True)\n",
    "        delta_r_d = delta_r.detach()\n",
    "        delta_r_d[self.ir,0] = 1\n",
    "        record = torch.mm(h_next_plus_sr_bd_total.squeeze(0), delta_r)\n",
    "        # h_next[0,0,0] = 0\n",
    "        # return h_current, h_next_plus_sr\n",
    "        return h_current, h_next_plus_sr_bd_total, record\n",
    "#         delta_r = torch.zeros(nx,1,requires_grad=True)\n",
    "#         delta_r_d = delta_r.detach()\n",
    "#         delta_r_d[self.ir,0] = 1\n",
    "#         record = torch.mm(h_next_plus_sr.squeeze(0), delta_r)\n",
    "#         return h_current, h_next_plus_sr, record\n",
    "        "
   ]
  },
  {
   "cell_type": "code",
   "execution_count": 35,
   "id": "fb1ff7f5-b662-410b-8d6a-3b6cbc484838",
   "metadata": {},
   "outputs": [],
   "source": [
    "dt = 0.001                     # delta\n",
    "timeLen = 1                    # in second\n",
    "nt = int(timeLen/dt)           # sample points\n",
    "peak_freq = 10                  # in Hz\n",
    "q0 = 1\n",
    "peak_sorce_time = 1/peak_freq  #\n",
    "source_amplitudes = q0 * ricker(peak_freq, nt, dt, peak_sorce_time)\n",
    "src = source_amplitudes"
   ]
  },
  {
   "cell_type": "code",
   "execution_count": 36,
   "id": "e32d7d33-999d-4cb9-8666-cf5a20de6f89",
   "metadata": {},
   "outputs": [
    {
     "data": {
      "image/png": "[encoded data removed]",
      "text/plain": [
       "<Figure size 432x288 with 1 Axes>"
      ]
     },
     "metadata": {
      "needs_background": "light"
     },
     "output_type": "display_data"
    }
   ],
   "source": [
    "# plot source time function\n",
    "import matplotlib.pyplot as plt\n",
    "\n",
    "plt.figure(1)\n",
    "plt.plot(np.arange(0,nt)*dt,source_amplitudes)\n",
    "plt.xlabel('$Time(s)$')\n",
    "plt.ylabel('$Amplitude$')\n",
    "plt.title('$Soure\\ Time\\ Function$')\n",
    "#plt.grid(ls='--')\n",
    "plt.show()"
   ]
  },
  {
   "cell_type": "code",
   "execution_count": 37,
   "id": "c7f158c7-faf6-43ec-a257-634cb1d9ecda",
   "metadata": {},
   "outputs": [
    {
     "name": "stdout",
     "output_type": "stream",
     "text": [
      "torch.Size([1, 1, 200]) torch.Size([1, 1, 200])\n"
     ]
    },
    {
     "data": {
      "image/png": "[encoded data removed]",
      "text/plain": [
       "<Figure size 1080x288 with 3 Axes>"
      ]
     },
     "metadata": {
      "needs_background": "light"
     },
     "output_type": "display_data"
    }
   ],
   "source": [
    "# 1D Wave Propagation (Finite Difference Solution)\n",
    "\n",
    "nx   = 200         # number of grid points in x-direction\n",
    "dx   = 5          # grid point distance in x-direction\n",
    "isrc = 150          # source location in grid in x-direction\n",
    "ir   = 130          # receiver location in grid in x-direction\n",
    "\n",
    "h_current = torch.zeros(1,1,nx)\n",
    "h_old = torch.zeros(1,1,nx)\n",
    "\n",
    "seis = np.zeros(nt)\n",
    "\n",
    "vel = torch.cat((torch.ones(60)*5000, torch.ones(50)*4000, torch.ones(40)*3000, torch.ones(50)*2000))\n",
    "vel_test1 = torch.cat((torch.ones(40)*5000, torch.linspace(5000,4000,30), \n",
    "                       torch.ones(30)*4000, torch.linspace(4000,3000,20), \n",
    "                       torch.ones(20)*3000, torch.linspace(3000,2000,30), \n",
    "                       torch.ones(30)*2000))\n",
    "#vel_test = torch.from_numpy(sm_vel_new_value)\n",
    "#vel_test = sm_vel_new_value\n",
    "net = RNNCell_FD(dx, dt, isrc, ir, nx, vel)\n",
    "net = net.float()\n",
    "check_it = -1\n",
    "for it in range(nt):\n",
    "    h_old, h_current, record = net(src[it], h_current, h_old)\n",
    "    seis[it] = record\n",
    "    if it == range(nt)[check_it]:\n",
    "        print(h_old.shape, h_current.shape)\n",
    "        plt.figure(figsize=(15,4))\n",
    "        ax3 = plt.subplot(131)\n",
    "        ax3.plot(np.linspace(0 * dx, nx * dx, nx), vel.numpy())\n",
    "        ax3.set_xlim([0, nx*dx])\n",
    "        ax3.invert_xaxis()\n",
    "        \n",
    "        ax1 = plt.subplot(132)\n",
    "        time = np.linspace(0 * dt, nt * dt, nt)\n",
    "        ax1.plot(time, seis)\n",
    "        \n",
    "        ax2 = plt.subplot(133)\n",
    "        ax2.plot(np.linspace(0 * dx, nx * dx, nx), h_current[0,0,:].detach().numpy())\n",
    "        ax2.plot(isrc*dx, 0, 'r*', markersize=11)\n",
    "        ax2.plot(ir*dx, 0, 'k^', markersize=8)\n",
    "        ax2.set_xlim([0, nx*dx])\n",
    "        ax2.set_xlabel('$Distance(m)$')\n",
    "        ax2.set_ylabel('$Amplitude$')\n",
    "        ax2.set_title(f'$Time\\ Step:\\ {it*dt}s$')\n",
    "        ax2.invert_xaxis()\n",
    "        "
   ]
  },
  {
   "cell_type": "code",
   "execution_count": 38,
   "id": "80597cae-b4f9-4392-9c0c-67624f8c1f50",
   "metadata": {},
   "outputs": [
    {
     "data": {
      "image/png": "[encoded data removed]",
      "text/plain": [
       "<Figure size 432x288 with 1 Axes>"
      ]
     },
     "metadata": {
      "needs_background": "light"
     },
     "output_type": "display_data"
    }
   ],
   "source": [
    "target = seis\n",
    "\n",
    "N = 60\n",
    "weights = np.hanning(N)\n",
    "\n",
    "smooth_vel = np.convolve(weights/weights.sum(), vel.numpy(), 'same')\n",
    "sm_vel_poly = np.polyfit(np.linspace(0 * dx, nx * dx, nx), vel.numpy(), 4)\n",
    "sm_vel_value = np.polyval(sm_vel_poly, np.linspace(0 * dx, nx * dx, nx))\n",
    "\n",
    "sm_vel_new_value = sm_vel_value\n",
    "sm_vel_new_value[sm_vel_new_value>5000] = sm_vel_new_value[sm_vel_new_value>5000]*0+5000.\n",
    "sm_vel_new_value[sm_vel_new_value<2000] = sm_vel_new_value[sm_vel_new_value<2000]*0+2000.\n",
    "\n",
    "plt.figure()\n",
    "ax_vel_true = plt.subplot(111)\n",
    "ax_vel_true.plot(np.linspace(0 * dx, nx * dx, nx), vel.numpy())\n",
    "ax_vel_true.plot(np.linspace(0 * dx, nx * dx, nx), smooth_vel)\n",
    "ax_vel_true.plot(np.linspace(0 * dx, nx * dx, nx), sm_vel_value)\n",
    "ax_vel_true.plot(np.linspace(0 * dx, nx * dx, nx), sm_vel_new_value)\n",
    "ax_vel_true.invert_xaxis()"
   ]
  },
  {
   "cell_type": "code",
   "execution_count": 39,
   "id": "26e74e8a-1b24-4d44-9d7b-38408f5c2262",
   "metadata": {},
   "outputs": [],
   "source": [
    "# init velocity\n",
    "sm_vel_new_value = torch.from_numpy(sm_vel_new_value)\n",
    "\n",
    "#sm_vel_value = vel\n",
    "netInv = RNNCell_FD(dx, dt, isrc, ir, nx, sm_vel_new_value)\n",
    "netInv = netInv.float()\n",
    "\n",
    "h_current_Inv = torch.zeros(nt+1, 1,1,nx, requires_grad=True)\n",
    "h_old_Inv = torch.zeros(nt+1, 1,1,nx, requires_grad=True)\n",
    "\n",
    "seisInv = torch.zeros(nt, requires_grad=True)"
   ]
  },
  {
   "cell_type": "code",
   "execution_count": 40,
   "id": "2adcfa05-195b-438f-8d3c-02e5063ef5ac",
   "metadata": {},
   "outputs": [],
   "source": [
    "optimizer = torch.optim.RMSprop(netInv.parameters(), lr=25)\n",
    "loss_func = nn.MSELoss()"
   ]
  },
  {
   "cell_type": "code",
   "execution_count": 41,
   "id": "6aca1057-8376-45e0-bf91-b3ef69042576",
   "metadata": {},
   "outputs": [
    {
     "name": "stdout",
     "output_type": "stream",
     "text": [
      "2/200:\n"
     ]
    },
    {
     "data": {
      "image/png": "[encoded data removed]",
      "text/plain": [
       "<Figure size 936x360 with 3 Axes>"
      ]
     },
     "metadata": {
      "needs_background": "light"
     },
     "output_type": "display_data"
    },
    {
     "ename": "KeyboardInterrupt",
     "evalue": "",
     "output_type": "error",
     "traceback": [
      "\u001b[1;31m---------------------------------------------------------------------------\u001b[0m",
      "\u001b[1;31mKeyboardInterrupt\u001b[0m                         Traceback (most recent call last)",
      "\u001b[1;32m<ipython-input-41-aed6f8cd219d>\u001b[0m in \u001b[0;36m<module>\u001b[1;34m\u001b[0m\n\u001b[0;32m     51\u001b[0m     \u001b[0mplt\u001b[0m\u001b[1;33m.\u001b[0m\u001b[0mtight_layout\u001b[0m\u001b[1;33m(\u001b[0m\u001b[1;33m)\u001b[0m\u001b[1;33m\u001b[0m\u001b[1;33m\u001b[0m\u001b[0m\n\u001b[0;32m     52\u001b[0m     \u001b[0mplt\u001b[0m\u001b[1;33m.\u001b[0m\u001b[0mdraw\u001b[0m\u001b[1;33m(\u001b[0m\u001b[1;33m)\u001b[0m\u001b[1;33m\u001b[0m\u001b[1;33m\u001b[0m\u001b[0m\n\u001b[1;32m---> 53\u001b[1;33m     \u001b[0mplt\u001b[0m\u001b[1;33m.\u001b[0m\u001b[0mpause\u001b[0m\u001b[1;33m(\u001b[0m\u001b[1;36m1\u001b[0m\u001b[1;33m)\u001b[0m\u001b[1;33m\u001b[0m\u001b[1;33m\u001b[0m\u001b[0m\n\u001b[0m\u001b[0;32m     54\u001b[0m     \u001b[0mdisplay\u001b[0m\u001b[1;33m.\u001b[0m\u001b[0mclear_output\u001b[0m\u001b[1;33m(\u001b[0m\u001b[0mwait\u001b[0m\u001b[1;33m=\u001b[0m\u001b[1;32mTrue\u001b[0m\u001b[1;33m)\u001b[0m\u001b[1;33m\u001b[0m\u001b[1;33m\u001b[0m\u001b[0m\n\u001b[0;32m     55\u001b[0m     \u001b[0mplt\u001b[0m\u001b[1;33m.\u001b[0m\u001b[0mioff\u001b[0m\u001b[1;33m(\u001b[0m\u001b[1;33m)\u001b[0m\u001b[1;33m\u001b[0m\u001b[1;33m\u001b[0m\u001b[0m\n",
      "\u001b[1;32mD:\\Program\\anaconda3\\envs\\pyTorchGPU\\lib\\site-packages\\matplotlib\\pyplot.py\u001b[0m in \u001b[0;36mpause\u001b[1;34m(interval)\u001b[0m\n\u001b[0;32m    436\u001b[0m             \u001b[0mcanvas\u001b[0m\u001b[1;33m.\u001b[0m\u001b[0mdraw_idle\u001b[0m\u001b[1;33m(\u001b[0m\u001b[1;33m)\u001b[0m\u001b[1;33m\u001b[0m\u001b[1;33m\u001b[0m\u001b[0m\n\u001b[0;32m    437\u001b[0m         \u001b[0mshow\u001b[0m\u001b[1;33m(\u001b[0m\u001b[0mblock\u001b[0m\u001b[1;33m=\u001b[0m\u001b[1;32mFalse\u001b[0m\u001b[1;33m)\u001b[0m\u001b[1;33m\u001b[0m\u001b[1;33m\u001b[0m\u001b[0m\n\u001b[1;32m--> 438\u001b[1;33m         \u001b[0mcanvas\u001b[0m\u001b[1;33m.\u001b[0m\u001b[0mstart_event_loop\u001b[0m\u001b[1;33m(\u001b[0m\u001b[0minterval\u001b[0m\u001b[1;33m)\u001b[0m\u001b[1;33m\u001b[0m\u001b[1;33m\u001b[0m\u001b[0m\n\u001b[0m\u001b[0;32m    439\u001b[0m     \u001b[1;32melse\u001b[0m\u001b[1;33m:\u001b[0m\u001b[1;33m\u001b[0m\u001b[1;33m\u001b[0m\u001b[0m\n\u001b[0;32m    440\u001b[0m         \u001b[0mtime\u001b[0m\u001b[1;33m.\u001b[0m\u001b[0msleep\u001b[0m\u001b[1;33m(\u001b[0m\u001b[0minterval\u001b[0m\u001b[1;33m)\u001b[0m\u001b[1;33m\u001b[0m\u001b[1;33m\u001b[0m\u001b[0m\n",
      "\u001b[1;32mD:\\Program\\anaconda3\\envs\\pyTorchGPU\\lib\\site-packages\\matplotlib\\backend_bases.py\u001b[0m in \u001b[0;36mstart_event_loop\u001b[1;34m(self, timeout)\u001b[0m\n\u001b[0;32m   2406\u001b[0m         \u001b[1;32mwhile\u001b[0m \u001b[0mself\u001b[0m\u001b[1;33m.\u001b[0m\u001b[0m_looping\u001b[0m \u001b[1;32mand\u001b[0m \u001b[0mcounter\u001b[0m \u001b[1;33m*\u001b[0m \u001b[0mtimestep\u001b[0m \u001b[1;33m<\u001b[0m \u001b[0mtimeout\u001b[0m\u001b[1;33m:\u001b[0m\u001b[1;33m\u001b[0m\u001b[1;33m\u001b[0m\u001b[0m\n\u001b[0;32m   2407\u001b[0m             \u001b[0mself\u001b[0m\u001b[1;33m.\u001b[0m\u001b[0mflush_events\u001b[0m\u001b[1;33m(\u001b[0m\u001b[1;33m)\u001b[0m\u001b[1;33m\u001b[0m\u001b[1;33m\u001b[0m\u001b[0m\n\u001b[1;32m-> 2408\u001b[1;33m             \u001b[0mtime\u001b[0m\u001b[1;33m.\u001b[0m\u001b[0msleep\u001b[0m\u001b[1;33m(\u001b[0m\u001b[0mtimestep\u001b[0m\u001b[1;33m)\u001b[0m\u001b[1;33m\u001b[0m\u001b[1;33m\u001b[0m\u001b[0m\n\u001b[0m\u001b[0;32m   2409\u001b[0m             \u001b[0mcounter\u001b[0m \u001b[1;33m+=\u001b[0m \u001b[1;36m1\u001b[0m\u001b[1;33m\u001b[0m\u001b[1;33m\u001b[0m\u001b[0m\n\u001b[0;32m   2410\u001b[0m \u001b[1;33m\u001b[0m\u001b[0m\n",
      "\u001b[1;31mKeyboardInterrupt\u001b[0m: "
     ]
    }
   ],
   "source": [
    "from torch.autograd import Variable\n",
    "\n",
    "target = torch.from_numpy(target).float()\n",
    "total_loss = []\n",
    "# with torch.autograd.set_detect_anomaly(True):\n",
    "epoch = 200\n",
    "for step in range(epoch):\n",
    "    h_current_Inv = Variable(torch.zeros(1,1,nx))\n",
    "    h_old_Inv = Variable(torch.zeros(1,1,nx))\n",
    "    seisInv = Variable(torch.zeros(nt))\n",
    "    print(f'{step}/{epoch}:')\n",
    "    for it in range(nt):\n",
    "        #print(h_current_Inv.shape, h_current_Inv[it,...].shape)\n",
    "        h_old_Inv, h_current_Inv, seisInv[it] = netInv(torch.tensor(src[it]), h_current_Inv, h_old_Inv)\n",
    "#             h_old_Inv[it+1,...] = h_old_Inv[it+1,...].detach()\n",
    "#             h_current_Inv[it+1,...] = h_current_Inv[it+1,...].detach()\n",
    "#         if it == 0:\n",
    "#             total_seisInv = seisInv.unsqueeze(0)\n",
    "#             total_target = torch.cat((target[:(it+1)], torch.zeros(len(target)-len(target[:it+1])))).unsqueeze(0)\n",
    "#         else:\n",
    "#             total_seisInv = torch.cat((total_seisInv, seisInv.unsqueeze(0)),0)\n",
    "#             total_target = torch.cat((total_target, \n",
    "#                                         torch.cat((target[:(it+1)], torch.zeros(len(target)-len(target[:it+1])))).unsqueeze(0)),0)\n",
    "\n",
    "        #total_target = torch.cat((target[:(it+1)]), torch.zeros(len(target)-len(target[:it+1])))\n",
    "    loss = loss_func(seisInv, target)\n",
    "    total_loss.append(loss.data)\n",
    "    optimizer.zero_grad()\n",
    "    loss.backward()\n",
    "    #loss.backward(retain_graph=True)\n",
    "    optimizer.step()\n",
    "\n",
    "    #plt.clf() # clear axis\n",
    "    plt.figure(figsize=(13,5))\n",
    "    plt.ion()\n",
    "    plt.subplot(131)\n",
    "    seisInvClone = seisInv.clone()\n",
    "    plt.plot(np.linspace(0 * dt, nt * dt, nt), target.numpy(), 'k')\n",
    "    plt.plot(np.linspace(0 * dt, nt * dt, nt), seisInvClone.detach().numpy())\n",
    "\n",
    "    plt.subplot(132)\n",
    "    pama = [x for x in netInv.parameters()]\n",
    "    plt.plot(np.linspace(0 * dx, nx * dx, nx), vel.numpy(), 'k')\n",
    "    pamaClone = pama[0].clone()\n",
    "    plt.plot(np.linspace(0 * dx, nx * dx, nx), np.sqrt(pamaClone.detach()[0,0,:].numpy()/dt))\n",
    "\n",
    "    plt.subplot(133)\n",
    "    plt.plot(total_loss)\n",
    "    plt.title(f'{step}')\n",
    "\n",
    "    plt.tight_layout()\n",
    "    plt.draw()\n",
    "    plt.pause(1)\n",
    "    display.clear_output(wait=True)\n",
    "    plt.ioff()\n",
    "    plt.show()"
   ]
  },
  {
   "cell_type": "code",
   "execution_count": 22,
   "id": "d9624d5a-0808-407e-906b-b16a9499f30b",
   "metadata": {},
   "outputs": [
    {
     "data": {
      "text/plain": [
       "tensor([[[0.9805, 0.3539, 0.5406, 0.7381, 0.5943, 1.0000, 1.0000, 1.0000,\n",
       "          1.0000, 1.0000]]])"
      ]
     },
     "execution_count": 22,
     "metadata": {},
     "output_type": "execute_result"
    }
   ],
   "source": [
    "a = torch.cat((torch.rand(1,1,5), torch.ones(1,1,5)), 2)\n",
    "a"
   ]
  },
  {
   "cell_type": "code",
   "execution_count": 464,
   "id": "3a6ddecc-44f7-4fe7-afbd-410bf4930d5c",
   "metadata": {},
   "outputs": [
    {
     "name": "stdout",
     "output_type": "stream",
     "text": [
      "vel Parameter containing:\n",
      "tensor([[[25000.0000, 25000.0000, 25000.0000, 25000.0000, 25000.0000,\n",
      "          25000.0000, 25000.0000, 25000.0000, 25000.0000, 25000.0000,\n",
      "          25000.0000, 25000.0000, 25000.0000, 25000.0000, 25000.0000,\n",
      "          25000.0000, 25000.0000, 25000.0000, 25000.0000, 25000.0000,\n",
      "          25000.0000, 25000.0000, 25000.0000, 25000.0000, 24980.9590,\n",
      "          24923.3086, 24862.2617, 24797.8359, 24730.0488, 24658.9238,\n",
      "          24584.4805, 24506.7422, 24425.7344, 24341.4844, 24254.0156,\n",
      "          24163.3613, 24069.5508, 23972.6152, 23872.5859, 23769.4980,\n",
      "          23663.3867, 23554.2910, 23442.2461, 23327.2910, 23209.4688,\n",
      "          23088.8203, 22965.3867, 22839.2129, 22710.3438, 22578.8262,\n",
      "          22444.7070, 22308.0352, 22168.8594, 22027.2305, 21883.1973,\n",
      "          21736.8164, 21588.1367, 21437.2148, 21284.1074, 21128.8672,\n",
      "          20971.5508, 20812.2168, 20650.9238, 20487.7305, 20322.6973,\n",
      "          20155.8809, 19987.3457, 19817.1523, 19645.3633, 19472.0391,\n",
      "          19297.2441, 19121.0430, 18943.4961, 18764.6719, 18584.6328,\n",
      "          18403.4453, 18221.1738, 18037.8828, 17853.6387, 17668.5078,\n",
      "          17482.5566, 17295.8516, 17108.4570, 16920.4414, 16731.8691,\n",
      "          16542.8086, 16353.3232, 16163.4814, 15973.3486, 15782.9912,\n",
      "          15592.4727, 15401.8604, 15211.2188, 15020.6123, 14830.1055,\n",
      "          14639.7617, 14449.6455, 14259.8193, 14070.3467, 13881.2881,\n",
      "          13692.7061, 13504.6621, 13317.2158, 13130.4268, 12944.3535,\n",
      "          12759.0557, 12574.5898, 12391.0127, 12208.3809, 12026.7490,\n",
      "          11846.1709, 11666.7012, 11488.3926, 11311.2949, 11135.4600,\n",
      "          10960.9375, 10787.7754, 10616.0215, 10445.7236, 10276.9258,\n",
      "          10109.6729,  9944.0088,  9779.9756,  9617.6143,  9456.9648,\n",
      "           9298.0664,  9140.9561,  8985.6719,  8832.2480,  8680.7188,\n",
      "           8531.1182,  8383.4766,  8237.8262,  8094.1953,  7952.6138,\n",
      "           7813.1074,  7675.7026,  7540.4248,  7407.2969,  7276.3418,\n",
      "           7147.5811,  7021.0352,  6896.7231,  6774.6631,  6654.8721,\n",
      "           6537.3667,  6422.1616,  6309.2710,  6198.7080,  6090.4854,\n",
      "           5984.6138,  5881.1045,  5779.9668,  5681.2104,  5584.8428,\n",
      "           5490.8721,  5399.3057,  5310.1494,  5223.4102,  5139.0928,\n",
      "           5057.2026,  4977.7451,  4900.7251,  4826.1460,  4754.0137,\n",
      "           4684.3315,  4617.1050,  4552.3379,  4490.0356,  4430.2036,\n",
      "           4372.8477,  4317.9736,  4265.5889,  4215.7007,  4168.3179,\n",
      "           4123.4497,  4081.1069,  4041.3015,  4004.0466,  4000.0000,\n",
      "           4000.0000,  4000.0000,  4000.0000,  4000.0000,  4000.0000,\n",
      "           4000.0000,  4000.0000,  4000.0000,  4000.0000,  4000.0000,\n",
      "           4000.0000,  4000.0000,  4000.0000,  4000.0000,  4000.0000,\n",
      "           4000.0000,  4000.0000,  4000.0000,  4000.0000,  4000.0000]]],\n",
      "       requires_grad=True)\n",
      "weight_conv Parameter containing:\n",
      "tensor([[[ 0.0400, -0.0800,  0.0400]]])\n"
     ]
    }
   ],
   "source": [
    "for name, p in netInv.named_parameters():\n",
    "    print(name, p)"
   ]
  },
  {
   "cell_type": "code",
   "execution_count": 41,
   "id": "9f2310b6-ec10-4c17-9242-923558cf4f95",
   "metadata": {},
   "outputs": [
    {
     "name": "stdout",
     "output_type": "stream",
     "text": [
      "vel Parameter containing:\n",
      "tensor([[[25000.0020, 25000.0020, 25000.0020, 25000.0020, 25000.0020,\n",
      "          25000.0020, 25000.0020, 25000.0020, 25000.0020, 25000.0020,\n",
      "          25000.0020, 25000.0020, 25000.0020, 25000.0020, 25000.0020,\n",
      "          25000.0020, 25000.0020, 25000.0020, 25000.0020, 25000.0020,\n",
      "          25000.0020, 25000.0020, 25000.0020, 25000.0020, 25000.0020,\n",
      "          25000.0020, 25000.0020, 25000.0020, 25000.0020, 25000.0020,\n",
      "          25000.0020, 25000.0020, 25000.0020, 25000.0020, 25000.0020,\n",
      "          25000.0020, 25000.0020, 25000.0020, 25000.0020, 25000.0020,\n",
      "          25000.0020, 24656.3613, 24315.1035, 23976.2207, 23639.7148,\n",
      "          23305.5918, 22973.8438, 22644.4707, 22317.4766, 21992.8633,\n",
      "          21670.6309, 21350.7734, 21033.2910, 20718.1934, 20405.4688,\n",
      "          20095.1230, 19787.1582, 19481.5684, 19178.3613, 18877.5293,\n",
      "          18579.0723, 18282.9980, 17989.3008, 17697.9785, 17409.0371,\n",
      "          17122.4746, 16838.2891, 16556.4824, 16277.0508, 16000.0010,\n",
      "          16000.0010, 16000.0010, 16000.0010, 16000.0010, 16000.0010,\n",
      "          16000.0010, 16000.0010, 16000.0010, 16000.0010, 16000.0010,\n",
      "          16000.0010, 16000.0010, 16000.0010, 16000.0010, 16000.0010,\n",
      "          16000.0010, 16000.0010, 16000.0010, 16000.0010, 16000.0010,\n",
      "          16000.0010, 16000.0010, 16000.0010, 16000.0010, 16000.0010,\n",
      "          16000.0010, 16000.0010, 16000.0010, 16000.0010, 16000.0010,\n",
      "          16000.0010, 15581.7178, 15168.9756, 14761.7734, 14360.1104,\n",
      "          13963.9883, 13573.4072, 13188.3652, 12808.8643, 12434.9023,\n",
      "          12066.4814, 11703.6006, 11346.2598, 10994.4600, 10648.1982,\n",
      "          10307.4785,  9972.2998,  9642.6592,  9318.5605,  9000.0000,\n",
      "           9000.0000,  9000.0000,  9000.0000,  9000.0000,  9000.0000,\n",
      "           9000.0000,  9000.0000,  9000.0000,  9000.0000,  9000.0000,\n",
      "           9000.0000,  9000.0000,  9000.0000,  9000.0000,  9000.0000,\n",
      "           9000.0000,  9000.0000,  9000.0000,  9000.0000,  9000.0000,\n",
      "           9000.0000,  8794.2930,  8590.9639,  8390.0127,  8191.4385,\n",
      "           7995.2437,  7801.4272,  7609.9878,  7420.9277,  7234.2456,\n",
      "           7049.9409,  6868.0146,  6688.4673,  6511.2964,  6336.5049,\n",
      "           6164.0903,  5994.0552,  5826.3970,  5661.1177,  5498.2168,\n",
      "           5337.6934,  5179.5483,  5023.7817,  4870.3921,  4719.3823,\n",
      "           4570.7495,  4424.4946,  4280.6187,  4139.1206,  4000.0002,\n",
      "           4000.0002,  4000.0002,  4000.0002,  4000.0002,  4000.0002,\n",
      "           4000.0002,  4000.0002,  4000.0002,  4000.0002,  4000.0002,\n",
      "           4972.6802,  4000.0002,  4000.0002,  4000.0002,  4000.0002,\n",
      "           4000.0002,  4000.0002,  4000.0002,  4000.0002,  4000.0002,\n",
      "           4000.0002,  4000.0002,  4000.0002,  4000.0002,  4000.0002,\n",
      "           4000.0002,  4000.0002,  4000.0002,  4000.0002,  4000.0002]]],\n",
      "       requires_grad=True)\n",
      "weight_conv Parameter containing:\n",
      "tensor([[[ 0.0400, -0.0800,  0.0400]]])\n"
     ]
    }
   ],
   "source": [
    "for name, p in netInv.named_parameters():\n",
    "    print(name, p)"
   ]
  },
  {
   "cell_type": "code",
   "execution_count": 42,
   "id": "2f8a469c-de05-45ea-997e-f1e6c311255c",
   "metadata": {},
   "outputs": [
    {
     "data": {
      "text/plain": [
       "tensor([[[ 0.0000e+00,  1.2597e-06,  5.0225e-06,  1.1209e-05,  1.9686e-05,\n",
       "           3.0276e-05,  4.2748e-05,  5.6822e-05,  7.2171e-05,  8.8428e-05,\n",
       "           1.0518e-04,  1.2198e-04,  1.3837e-04,  1.5386e-04,  1.6796e-04,\n",
       "           1.8017e-04,  1.9004e-04,  1.9711e-04,  2.0100e-04,  2.0138e-04,\n",
       "           1.9797e-04,  1.9062e-04,  1.7923e-04,  1.6383e-04,  1.4478e-04,\n",
       "           1.2241e-04,  9.6547e-05,  6.7587e-05,  3.6046e-05,  2.5512e-06,\n",
       "          -3.2161e-05, -6.7312e-05, -1.0214e-04, -1.3600e-04, -1.6827e-04,\n",
       "          -1.9037e-04, -2.1621e-04, -2.3847e-04, -2.5650e-04, -2.6980e-04,\n",
       "          -2.7795e-04, -2.8071e-04, -2.7792e-04, -2.6961e-04, -2.5591e-04,\n",
       "          -2.3712e-04, -2.1365e-04, -1.8605e-04, -1.5497e-04, -1.2114e-04,\n",
       "          -8.5371e-05, -4.8499e-05, -1.1400e-05,  2.5051e-05,  6.0056e-05,\n",
       "           9.7297e-05,  1.2932e-04,  1.5850e-04,  1.8390e-04,  2.0477e-04,\n",
       "           2.2088e-04,  2.3221e-04,  2.3887e-04,  2.4114e-04,  2.3936e-04,\n",
       "           2.3400e-04,  2.2553e-04,  2.1450e-04,  2.0139e-04,  1.8670e-04,\n",
       "           1.7080e-04,  1.5401e-04,  1.3650e-04,  1.1832e-04,  9.9424e-05,\n",
       "           7.9622e-05,  5.8638e-05,  3.6144e-05,  1.1806e-05, -1.4629e-05,\n",
       "          -4.2998e-05, -7.2278e-05, -9.8636e-05, -1.3111e-04, -1.6497e-04,\n",
       "          -1.9955e-04, -2.3401e-04, -2.6735e-04, -2.9846e-04, -3.2611e-04,\n",
       "          -3.4911e-04, -3.6636e-04, -3.7691e-04, -3.8015e-04, -4.0109e-04,\n",
       "          -3.8867e-04, -3.6880e-04, -3.4276e-04, -3.1231e-04, -2.7943e-04,\n",
       "          -2.2999e-04, -2.0150e-04, -1.7702e-04, -1.5783e-04, -1.4434e-04,\n",
       "          -1.3576e-04, -1.2986e-04, -1.2277e-04, -1.0885e-04, -8.0825e-05,\n",
       "          -3.0097e-05,  5.2937e-05,  2.0469e-04,  4.0787e-04,  6.7961e-04,\n",
       "           1.0241e-03,  1.4399e-03,  1.9184e-03,  2.4428e-03,  2.9873e-03,\n",
       "           3.5178e-03,  3.9930e-03,  4.3669e-03,  4.5920e-03,  4.6240e-03,\n",
       "           4.4261e-03,  3.9742e-03,  3.2612e-03,  2.2999e-03,  1.1218e-03,\n",
       "          -1.4681e-04, -2.0598e-04, -3.0980e-04, -4.5780e-04, -6.4689e-04,\n",
       "          -8.7091e-04, -1.1205e-03, -1.3832e-03, -1.6435e-03, -1.8838e-03,\n",
       "          -2.0847e-03, -2.2271e-03, -2.2934e-03, -2.2697e-03, -2.1477e-03,\n",
       "          -1.9268e-03, -1.6156e-03, -1.2326e-03, -8.0640e-04, -3.7502e-04,\n",
       "          -1.5412e-01,  3.4225e-03,  6.7702e-03,  9.6495e-03,  1.1746e-02,\n",
       "           1.2844e-02,  1.2866e-02,  1.1884e-02,  1.0109e-02,  7.8521e-03,\n",
       "           5.4675e-03,  3.2885e-03,  1.5700e-03,  3.1163e-04, -1.3533e-04,\n",
       "          -1.9161e-04,  1.4064e-05,  3.6120e-04,  7.4590e-04,  1.1193e-03,\n",
       "           1.5007e-03,  1.4797e-03,  1.4127e-03,  1.3361e-03,  1.2873e-03,\n",
       "           1.2805e-03,  1.3048e-03,  1.3351e-03,  1.3631e-03,  1.3952e-03,\n",
       "           1.2930e-03,  1.0792e-03,  8.7522e-04,  7.6523e-04,  8.0230e-04,\n",
       "           1.0002e-03,  1.3298e-03,  1.7253e-03,  2.1056e-03,  2.4117e-03,\n",
       "           2.6228e-03,  2.7248e-03,  2.6946e-03,  2.5136e-03,  2.1800e-03,\n",
       "           1.7159e-03,  1.1742e-03,  5.0617e-04,  1.7122e-04,  0.0000e+00]]])"
      ]
     },
     "execution_count": 42,
     "metadata": {},
     "output_type": "execute_result"
    }
   ],
   "source": [
    "netInv.vel.grad"
   ]
  },
  {
   "cell_type": "code",
   "execution_count": 13,
   "id": "54b62a92-b8bf-4dbd-a40a-be3fdc8ead97",
   "metadata": {},
   "outputs": [
    {
     "data": {
      "text/plain": [
       "tensor([1.3070, 0.9897, 1.4262, 0.9293, 1.0681, 0.5637, 0.4808, 0.8218])"
      ]
     },
     "execution_count": 13,
     "metadata": {},
     "output_type": "execute_result"
    }
   ],
   "source": [
    "F.conv1d(torch.rand(1,1,10), torch.rand(1,1,3)).squeeze(0).squeeze(0)"
   ]
  },
  {
   "cell_type": "code",
   "execution_count": 43,
   "id": "a02cbfd9-2f73-4df9-806d-dcfd32fa20fc",
   "metadata": {},
   "outputs": [
    {
     "data": {
      "text/plain": [
       "array([25000.002 , 25000.002 , 25000.002 , 25000.002 , 25000.002 ,\n",
       "       25000.002 , 25000.002 , 25000.002 , 25000.002 , 25000.002 ,\n",
       "       25000.002 , 25000.002 , 25000.002 , 25000.002 , 25000.002 ,\n",
       "       25000.002 , 25000.002 , 25000.002 , 25000.002 , 25000.002 ,\n",
       "       25000.002 , 25000.002 , 25000.002 , 25000.002 , 25000.002 ,\n",
       "       25000.002 , 25000.002 , 25000.002 , 25000.002 , 25000.002 ,\n",
       "       25000.002 , 25000.002 , 25000.002 , 25000.002 , 25000.002 ,\n",
       "       25000.002 , 25000.002 , 25000.002 , 25000.002 , 25000.002 ,\n",
       "       25000.002 , 25000.002 , 25000.002 , 25000.002 , 25000.002 ,\n",
       "       25000.002 , 25000.002 , 25000.002 , 25000.002 , 25000.002 ,\n",
       "       25000.002 , 25000.002 , 25000.002 , 25000.002 , 25000.002 ,\n",
       "       25000.002 , 25000.002 , 25000.002 , 25000.002 , 25000.002 ,\n",
       "       16000.001 , 16000.001 , 16000.001 , 16000.001 , 16000.001 ,\n",
       "       16000.001 , 16000.001 , 16000.001 , 16000.001 , 16000.001 ,\n",
       "       16000.001 , 16000.001 , 16000.001 , 16000.001 , 16000.001 ,\n",
       "       16000.001 , 16000.001 , 16000.001 , 16000.001 , 16000.001 ,\n",
       "       16000.001 , 16000.001 , 16000.001 , 16000.001 , 16000.001 ,\n",
       "       16000.001 , 16000.001 , 16000.001 , 16000.001 , 16000.001 ,\n",
       "       16000.001 , 16000.001 , 16000.001 , 16000.001 , 16000.001 ,\n",
       "       16000.001 , 16000.001 , 16000.001 , 16000.001 , 16000.001 ,\n",
       "       16000.001 , 16000.001 , 16000.001 , 16000.001 , 16000.001 ,\n",
       "       16000.001 , 16000.001 , 16000.001 , 16000.001 , 16000.001 ,\n",
       "        9000.    ,  9000.    ,  9000.    ,  9000.    ,  9000.    ,\n",
       "        9000.    ,  9000.    ,  9000.    ,  9000.    ,  9000.    ,\n",
       "        9000.    ,  9000.    ,  9000.    ,  9000.    ,  9000.    ,\n",
       "        9000.    ,  9000.    ,  9000.    ,  9000.    ,  9000.    ,\n",
       "        9000.    ,  9000.    ,  9000.    ,  9000.    ,  9000.    ,\n",
       "        9000.    ,  9000.    ,  9000.    ,  9000.    ,  9000.    ,\n",
       "        9000.    ,  9000.    ,  9000.    ,  9000.    ,  9000.    ,\n",
       "        9000.    ,  9000.    ,  9000.    ,  9000.    ,  9000.    ,\n",
       "        4000.0002,  4000.0002,  4000.0002,  4000.0002,  4000.0002,\n",
       "        4000.0002,  4000.0002,  4000.0002,  4000.0002,  4000.0002,\n",
       "        4000.0002,  4000.0002,  4000.0002,  4000.0002,  4000.0002,\n",
       "        4000.0002,  4000.0002,  4000.0002,  4000.0002,  4000.0002,\n",
       "        4000.0002,  4000.0002,  4000.0002,  4000.0002,  4000.0002,\n",
       "        4000.0002,  4000.0002,  4000.0002,  4000.0002,  4000.0002,\n",
       "        4000.0002,  4000.0002,  4000.0002,  4000.0002,  4000.0002,\n",
       "        4000.0002,  4000.0002,  4000.0002,  4000.0002,  4000.0002,\n",
       "        4000.0002,  4000.0002,  4000.0002,  4000.0002,  4000.0002,\n",
       "        4000.0002,  4000.0002,  4000.0002,  4000.0002,  4000.0002],\n",
       "      dtype=float32)"
      ]
     },
     "execution_count": 43,
     "metadata": {},
     "output_type": "execute_result"
    }
   ],
   "source": [
    "a = [x for x in net.parameters()]\n",
    "a[0].detach()[0,0,:].numpy()"
   ]
  },
  {
   "cell_type": "code",
   "execution_count": 22,
   "id": "d7920330-4a02-4451-b37c-6eca0870edb3",
   "metadata": {},
   "outputs": [
    {
     "data": {
      "text/plain": [
       "tensor([1., 1., 1., 1., 1.])"
      ]
     },
     "execution_count": 22,
     "metadata": {},
     "output_type": "execute_result"
    }
   ],
   "source": [
    "padd = torch.ones(5)\n",
    "padd"
   ]
  },
  {
   "cell_type": "code",
   "execution_count": 23,
   "id": "c07d303f-3edb-4e11-a29c-a8d6f22939d4",
   "metadata": {},
   "outputs": [
    {
     "data": {
      "text/plain": [
       "tensor([0., 1., 1., 1., 1., 1., 0.])"
      ]
     },
     "execution_count": 23,
     "metadata": {},
     "output_type": "execute_result"
    }
   ],
   "source": [
    "F.pad(padd, (1,1))"
   ]
  },
  {
   "cell_type": "code",
   "execution_count": 87,
   "id": "00d2141f-9edb-4d5a-93af-80965b499d14",
   "metadata": {},
   "outputs": [
    {
     "name": "stdout",
     "output_type": "stream",
     "text": [
      "torch.Size([1, 1, 4])\n"
     ]
    }
   ],
   "source": [
    "a = torch.randn(1,1,4, requires_grad=True)\n",
    "print(a.shape)\n",
    "#b = a.sequeeze(0)\n",
    "b = a.squeeze(0).squeeze(0)"
   ]
  },
  {
   "cell_type": "code",
   "execution_count": 153,
   "id": "7532e253-adf0-40e8-85ec-f4bf8b67cce1",
   "metadata": {},
   "outputs": [
    {
     "data": {
      "text/plain": [
       "tensor([[[[ 0.9240,  1.4451, -2.0026]]],\n",
       "\n",
       "\n",
       "        [[[-0.8470, -0.6673,  0.0417]]]])"
      ]
     },
     "execution_count": 153,
     "metadata": {},
     "output_type": "execute_result"
    }
   ],
   "source": [
    "a = torch.randn(2,1,1,3)\n",
    "a"
   ]
  },
  {
   "cell_type": "code",
   "execution_count": 218,
   "id": "6c8ba8bb-5a5b-4692-a59f-036cc3c84992",
   "metadata": {},
   "outputs": [],
   "source": [
    "a.requires_grad = True"
   ]
  },
  {
   "cell_type": "code",
   "execution_count": 219,
   "id": "292dc061-2797-489b-b4a5-06dc3b275b15",
   "metadata": {},
   "outputs": [
    {
     "data": {
      "text/plain": [
       "True"
      ]
     },
     "execution_count": 219,
     "metadata": {},
     "output_type": "execute_result"
    }
   ],
   "source": [
    "a[1,...].requires_grad"
   ]
  },
  {
   "cell_type": "code",
   "execution_count": 159,
   "id": "ec7f76fa-0992-4033-95e9-612a01f8f350",
   "metadata": {},
   "outputs": [
    {
     "data": {
      "text/plain": [
       "tensor([[-1.0054,  1.2155,  0.4531],\n",
       "        [ 0.0000,  0.0000,  0.0000],\n",
       "        [ 0.0000,  0.0000,  0.0000]])"
      ]
     },
     "execution_count": 159,
     "metadata": {},
     "output_type": "execute_result"
    }
   ],
   "source": [
    "torch.cat((a,torch.zeros(2,3)), 0)"
   ]
  },
  {
   "cell_type": "code",
   "execution_count": 391,
   "id": "224c815f-6115-4578-83a8-bfc5724f9f06",
   "metadata": {},
   "outputs": [
    {
     "data": {
      "text/plain": [
       "tensor(5.)"
      ]
     },
     "execution_count": 391,
     "metadata": {},
     "output_type": "execute_result"
    }
   ],
   "source": [
    "torch.sqrt(torch.tensor(25.0))"
   ]
  },
  {
   "cell_type": "code",
   "execution_count": 48,
   "id": "bf68e17a-7298-4bc0-a4e1-91a3b028d699",
   "metadata": {},
   "outputs": [
    {
     "data": {
      "text/plain": [
       "tensor([0., 0., 0., 0., 0.], requires_grad=True)"
      ]
     },
     "execution_count": 48,
     "metadata": {},
     "output_type": "execute_result"
    }
   ],
   "source": [
    "a = torch.zeros(5, requires_grad=True)\n",
    "a"
   ]
  },
  {
   "cell_type": "code",
   "execution_count": 50,
   "id": "720a6a7a-2b77-4746-8d57-b7d0947171c1",
   "metadata": {},
   "outputs": [],
   "source": [
    "a[0] = 1"
   ]
  },
  {
   "cell_type": "code",
   "execution_count": 52,
   "id": "1ef66d7b-a337-4d7d-b630-9da233d87b4c",
   "metadata": {},
   "outputs": [
    {
     "data": {
      "text/plain": [
       "tensor(1., grad_fn=<SelectBackward>)"
      ]
     },
     "execution_count": 52,
     "metadata": {},
     "output_type": "execute_result"
    }
   ],
   "source": [
    "a[0]"
   ]
  },
  {
   "cell_type": "code",
   "execution_count": null,
   "id": "b4b8bc5e-b658-4c62-9aae-13a127054d8b",
   "metadata": {},
   "outputs": [],
   "source": []
  }
 ],
 "metadata": {
  "kernelspec": {
   "display_name": "Python 3",
   "language": "python",
   "name": "python3"
  },
  "language_info": {
   "codemirror_mode": {
    "name": "ipython",
    "version": 3
   },
   "file_extension": ".py",
   "mimetype": "text/x-python",
   "name": "python",
   "nbconvert_exporter": "python",
   "pygments_lexer": "ipython3",
   "version": "3.8.8"
  }
 },
 "nbformat": 4,
 "nbformat_minor": 5
}
