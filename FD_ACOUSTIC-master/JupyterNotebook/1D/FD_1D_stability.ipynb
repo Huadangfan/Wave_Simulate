{
 "cells": [
  {
   "cell_type": "markdown",
   "metadata": {},
   "source": [
    "# FD_1D_stability 1-D FD stability calculation\n",
    "\n",
    "GNU General Public License v3.0\n",
    "\n",
    "Author: Florian Wittkamp\n",
    "\n",
    "Calculate stability limit of FD-simulations\n",
    "\n",
    "Stability limit is calculated in terms of the CFL-number, which is\n",
    "defined as: CFL=v_(max)*DT/DX\n",
    "You get the maximum DT by DT=CFL*DX/v_(max)\n",
    "\n",
    "Theory:\n",
    "        \n",
    "Fei, X., & Xiaohong, T. (2006).\n",
    "Stability and numerical dispersion analysis of a fourth-order accurate FDTD method. Antennas and Propagation,\n",
    "IEEE Transactions on, 54(9), 2525-2530."
   ]
  },
  {
   "cell_type": "markdown",
   "metadata": {},
   "source": [
    "## Initialisation"
   ]
  },
  {
   "cell_type": "code",
   "execution_count": 12,
   "metadata": {},
   "outputs": [],
   "source": [
    "import numpy as np"
   ]
  },
  {
   "cell_type": "markdown",
   "metadata": {},
   "source": [
    "## Input Parameter"
   ]
  },
  {
   "cell_type": "code",
   "execution_count": 13,
   "metadata": {},
   "outputs": [],
   "source": [
    "spatial_order=4"
   ]
  },
  {
   "cell_type": "markdown",
   "metadata": {},
   "source": [
    "## Calculate Taylor coefficient\n",
    "\n",
    "Calculate the Taylor coefficient in an arbitrary order for the\n",
    "second-order derivative.\n",
    "\n",
    "Usage:\n",
    "    \n",
    "Lets say you want to calculate the 4th order accurate second-order\n",
    "FD-stencil. Then you have to set order=4 and the result would be used\n",
    "as follow:\n",
    "    \n",
    "p_x = 1/DH * ( coeff(1) * (p(x+1)-p(x)) + coeff(2) * (p(x+2)-p(x-1)) )\n",
    "where p_x is the derivative."
   ]
  },
  {
   "cell_type": "code",
   "execution_count": 14,
   "metadata": {},
   "outputs": [],
   "source": [
    "def coeff(order):\n",
    "    ## Check some conditions\n",
    "    if np.int(order)%2!=0:\n",
    "        print(\"Error: coeff\")\n",
    "        print(\"Order has to be an integer multiple of 2!\")\n",
    "        return\n",
    "    if order==2:\n",
    "        print(\"Error: coeff\")\n",
    "        print(\"Order has to be at least 4!\")\n",
    "        return\n",
    "    ## Calculation\n",
    "    c=np.transpose(np.hstack((1, np.zeros(np.int(order/2)-1))))\n",
    "    M=np.zeros((np.int(order/2),np.int(order/2)))\n",
    "    # Condition 1: \\sum^{N/2}_{k=1} b_k(2k-1)=1\n",
    "    for n in range(1,np.int(order/2+1)):\n",
    "        M[0,n-1]=(2*n-1)\n",
    "    # Condition 2:  \\sum^{N/2}_{k=1} b_k(2k-1)^(2j-1)=0; j=2,3...N/2\n",
    "    for j in range(2,np.int(order/2+1)):\n",
    "        for n in range(1,np.int(order/2+1)):\n",
    "            M[j-1,n-1]=(2*n-1)**(2*j-1)\n",
    "    coeff=np.transpose(np.dot(np.linalg.inv(M),c))\n",
    "    return(coeff)"
   ]
  },
  {
   "cell_type": "markdown",
   "metadata": {},
   "source": [
    "## Calculate spatial derivation impact\n",
    "Assumption: Spatial sampling is at the Nyquist condition"
   ]
  },
  {
   "cell_type": "code",
   "execution_count": 15,
   "metadata": {},
   "outputs": [
    {
     "name": "stdout",
     "output_type": "stream",
     "text": [
      "You choose a spatial order of  4\n"
     ]
    }
   ],
   "source": [
    "sum_fd_stencil=np.sum(np.abs(coeff(spatial_order)))\n",
    "theta=np.arange(0,2*np.pi,0.01)\n",
    "print(\"You choose a spatial order of \",spatial_order)"
   ]
  },
  {
   "cell_type": "markdown",
   "metadata": {},
   "source": [
    "## Temporal 2 order (Leapfrog)"
   ]
  },
  {
   "cell_type": "code",
   "execution_count": 16,
   "metadata": {},
   "outputs": [
    {
     "name": "stdout",
     "output_type": "stream",
     "text": [
      "2. Temporal Order has the stability limit CFL= 0.8570141161810503\n"
     ]
    }
   ],
   "source": [
    "f=-1j*(((np.exp(-1j*theta))**(2.5)-(np.exp(-1j*theta))**1.5))\n",
    "f2=(2*sum_fd_stencil)\n",
    "f_ges=f/f2\n",
    "print(\"2. Temporal Order has the stability limit CFL=\",np.max(f_ges.real))\n"
   ]
  },
  {
   "cell_type": "markdown",
   "metadata": {},
   "source": [
    "## Temporal 3 order (Adams-Bashforth method)"
   ]
  },
  {
   "cell_type": "code",
   "execution_count": 17,
   "metadata": {},
   "outputs": [
    {
     "name": "stdout",
     "output_type": "stream",
     "text": [
      "3. Temporal Order (ABS-method) has the stability limit CFL= 0.7346918903597552\n"
     ]
    }
   ],
   "source": [
    "f=-1j*(((np.exp(-1j*theta))**2.5-(np.exp(-1j*theta))**1.5)*1);\n",
    "f2=(2*sum_fd_stencil*(25.0/24.0*(np.exp(-1j*theta))**2\n",
    "    -1./12.*(np.exp(-1j*theta))**1+1./24.))\n",
    "f_ges=f/f2\n",
    "print(\"3. Temporal Order (ABS-method) has the stability limit CFL=\",np.max(f_ges.real))"
   ]
  },
  {
   "cell_type": "markdown",
   "metadata": {},
   "source": [
    "## Temporal 4 order (Adams-Bashforth method)"
   ]
  },
  {
   "cell_type": "code",
   "execution_count": 18,
   "metadata": {},
   "outputs": [
    {
     "name": "stdout",
     "output_type": "stream",
     "text": [
      "4. Temporal Order (ABS-method) has the stability limit CFL= 0.6599740253924596\n"
     ]
    }
   ],
   "source": [
    "f=-1j*(((np.exp(-1j*theta))**3.5-(np.exp(-1j*theta))**2.5))\n",
    "f2=(2*sum_fd_stencil*(13./12.*(np.exp(-1j*theta))**3\n",
    "    -5./24.*(np.exp(-1j*theta))**2+1./6.*(np.exp(-1j*theta))**1-1./24.))\n",
    "f_ges=f/f2\n",
    "print(\"4. Temporal Order (ABS-method) has the stability limit CFL=\",np.max(f_ges.real))"
   ]
  }
 ],
 "metadata": {
  "kernelspec": {
   "display_name": "Python 3",
   "language": "python",
   "name": "python3"
  },
  "language_info": {
   "codemirror_mode": {
    "name": "ipython",
    "version": 3
   },
   "file_extension": ".py",
   "mimetype": "text/x-python",
   "name": "python",
   "nbconvert_exporter": "python",
   "pygments_lexer": "ipython3",
   "version": "3.7.5"
  }
 },
 "nbformat": 4,
 "nbformat_minor": 4
}
