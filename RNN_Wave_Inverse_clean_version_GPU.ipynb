{
 "cells": [
  {
   "cell_type": "code",
   "execution_count": 53,
   "source": [
    "import torch\n",
    "from torch import nn\n",
    "from torch.nn import functional as F\n",
    "from torch.nn import Module, Parameter\n",
    "import numpy as np\n",
    "import math\n",
    "from IPython import display\n",
    "import os\n",
    "import sys"
   ],
   "outputs": [],
   "metadata": {}
  },
  {
   "cell_type": "code",
   "execution_count": 54,
   "source": [
    "# source time function\n",
    "def ricker(freq, length, dt, peak_time):\n",
    "    \"\"\"Return a Ricker wavelet with the specified central frequency.\n",
    "    Args:\n",
    "        freq: A float specifying the central frequency\n",
    "        length: An int specifying the number of time samples\n",
    "        dt: A float specifying the time sample spacing\n",
    "        peak_time: A float specifying the time (in secs) of the peak amplitude\n",
    "    \"\"\"\n",
    "    t = np.arange(0,length)*dt - peak_time\n",
    "    y = (1-2*math.pi**2 * freq**2 * t**2) * np.exp(-math.pi**2 * freq**2 * t**2)\n",
    "    return y"
   ],
   "outputs": [],
   "metadata": {}
  },
  {
   "cell_type": "code",
   "execution_count": 55,
   "source": [
    "class RNNCell_FD(Module):\n",
    "    def __init__(self, dx, dt, isrc, ir, nx, vel):\n",
    "        super(RNNCell_FD, self).__init__()\n",
    "        self.dx = dx          # grid point distance in x-direction\n",
    "#         self.ir = ir          # receiver position in x-direction\n",
    "#         self.isrc = isrc      # source position in x-direction\n",
    "        self.nx = nx          # number of grid points in x-direction\n",
    "        self.dt = dt          # sample delta\n",
    "        kernel = [1/(dx**2), -2/(dx**2), 1/(dx**2)] # laplacian operator in space\n",
    "        kernel = torch.FloatTensor(kernel).unsqueeze(0).unsqueeze(0)\n",
    "        vel_init = vel**2 * self.dt  # the 1-D velocity model, vel: velocity(1-D tensor)\n",
    "        vel_init = vel_init.unsqueeze(0).unsqueeze(0)  # expend to 3-D tensor\n",
    "        self.vel = Parameter(data=vel_init, requires_grad=True)\n",
    "        self.weight_conv = Parameter(data=kernel, requires_grad=False)\n",
    "        \n",
    "        \n",
    "    def forward(self, input, h_current, h_old, isrc, ir):\n",
    "        ''' Forward calculating\n",
    "        Args:\n",
    "            input: the i-th value of source time function\n",
    "            h_current: current wavefield\n",
    "            h_old: previous wavefield\n",
    "        '''\n",
    "        self.ir = ir\n",
    "        self.isrc = isrc\n",
    "        if vel.shape[-1] != self.nx:\n",
    "            # check the lenght of velocity model for nx\n",
    "            print(f'[ERROR]: velocity model length {vel.shape[-1]} != {nx}!')\n",
    "            os.system('PAUSE')\n",
    "            \n",
    "        # calculate space gradient\n",
    "        d2px = F.conv1d(h_current, self.weight_conv)\n",
    "        \n",
    "        if d2px.shape[-1] != self.nx and (self.nx - d2px.shape[-1]) % 2 == 0:\n",
    "            padd = int((self.nx - d2px.shape[-1]) / 2)\n",
    "            d2pxx = F.pad(d2px, (padd, padd))   # padding the space gradient in order to have same dimension\n",
    "            pure_d2px = d2pxx * self.vel *self.dt\n",
    "        else:\n",
    "            print(f'[ERROR]: Conv lenght {nx} - {d2px.shape[-1]} ={self.nx - d2px.shape[-1]} !')\n",
    "            pure_d2px = d2px * self.vel * self.dt\n",
    "        \n",
    "        vel_value = torch.tensor(0.0, requires_grad=True).cuda()   # auxiliary tensor\n",
    "        local_vel = torch.sqrt(self.vel[0,0,-1] / self.dt).cuda() + vel_value # get the last point velocity of model\n",
    "        \n",
    "        # get the next wavefield\n",
    "        h_next = pure_d2px - h_old + 2 * h_current\n",
    "        # add source term:\n",
    "        source_factor = torch.zeros(1,1,self.nx, requires_grad=True).cuda()   # auxiliary tensor\n",
    "        source_factor_deta = source_factor.detach()\n",
    "        source_factor_deta[0,0,self.isrc] = input * self.dt**2 * 1 / self.dx * self.vel[0,0,self.isrc] /self.dt\n",
    "        # h_next_plus_sr: the next wavefield\n",
    "        h_next_plus_sr = h_next + source_factor\n",
    "\n",
    "        \n",
    "        #  boundary conditions\n",
    "        # the fist point: open conditions\n",
    "        value = h_next_plus_sr[0,0,-2] - 1/local_vel * (h_next_plus_sr[0,0,-2] - h_current[0,0,-2])*self.dx/self.dt\n",
    "        ttmp = torch.zeros(1,1,self.nx, requires_grad=True).cuda()   # auxiliary tensor\n",
    "        ttmp_deta = ttmp.detach()\n",
    "        ttmp_deta[0,0,-1] = value\n",
    "        tmp = torch.ones(1,1,self.nx, requires_grad=True).cuda()   # auxiliary tensor\n",
    "        tmp_tmp = tmp.detach()\n",
    "        tmp_tmp[0,0,-1] = 0\n",
    "        h_next_plus_sr_bd = h_next_plus_sr * tmp + ttmp\n",
    "        \n",
    "        # the end point: fixed conditions\n",
    "        tmp_zero = torch.ones(1,1,self.nx, requires_grad=True).cuda()\n",
    "        tmp_zero_deta = tmp_zero.detach()\n",
    "        tmp_zero_deta[0,0,0] = 0\n",
    "        # h_next_plus_sr_bd_total: the next wavefield included source term and boundary conditions\n",
    "        h_next_plus_sr_bd_total = h_next_plus_sr_bd * tmp_zero\n",
    "        \n",
    "        # get wavefield amplitude of the receiver position -> record\n",
    "        delta_r = torch.zeros(nx,1,requires_grad=True).cuda()\n",
    "        delta_r_d = delta_r.detach()\n",
    "        delta_r_d[self.ir,0] = 1\n",
    "        record = torch.mm(h_next_plus_sr_bd_total.squeeze(0), delta_r)\n",
    "\n",
    "        # return current wavefield, next wavefield, amplitude of the receiver position\n",
    "        return h_current, h_next_plus_sr_bd_total, record\n",
    "        "
   ],
   "outputs": [],
   "metadata": {}
  },
  {
   "cell_type": "code",
   "execution_count": 56,
   "source": [
    "dt = 0.001                     # delta\n",
    "timeLen = 1                    # in second\n",
    "nt = int(timeLen/dt)           # sample points\n",
    "peak_freq = 10                  # in Hz\n",
    "q0 = 1\n",
    "peak_sorce_time = 1/peak_freq  #\n",
    "source_amplitudes = q0 * ricker(peak_freq, nt, dt, peak_sorce_time)\n",
    "src = source_amplitudes"
   ],
   "outputs": [],
   "metadata": {}
  },
  {
   "cell_type": "code",
   "execution_count": 57,
   "source": [
    "# plot source time function\n",
    "import matplotlib.pyplot as plt\n",
    "\n",
    "plt.figure(1)\n",
    "plt.plot(np.arange(0,nt)*dt,source_amplitudes)\n",
    "plt.xlabel('$Time(s)$')\n",
    "plt.ylabel('$Amplitude$')\n",
    "plt.title('$Soure\\ Time\\ Function$')\n",
    "#plt.grid(ls='--')\n",
    "plt.show()"
   ],
   "outputs": [
    {
     "output_type": "display_data",
     "data": {
      "text/plain": [
       "<Figure size 432x288 with 1 Axes>"
      ],
      "image/png": "[encoded data removed]"
     },
     "metadata": {
      "needs_background": "light"
     }
    }
   ],
   "metadata": {}
  },
  {
   "cell_type": "code",
   "execution_count": 58,
   "source": [
    "# 1D Wave Propagation (Finite Difference Solution)\n",
    "\n",
    "nx   = 200         # number of grid points in x-direction\n",
    "dx   = 5          # grid point distance in x-direction\n",
    "isrc = 198          # source location in grid in x-direction\n",
    "ir   = 180          # receiver location in grid in x-direction\n",
    "mul_ir = np.linspace(180, 20, 8, dtype=int)\n",
    "mul_isrc = np.linspace(198, 38, 8, dtype=int)\n",
    "print(mul_ir)\n",
    "print(mul_isrc)\n",
    "\n",
    "seis = torch.from_numpy(np.zeros((len(mul_isrc),len(mul_ir),nt))).cuda()              # receiver amplitude\n",
    "\n",
    "vel = torch.cat((torch.ones(60)*5000, torch.ones(50)*4000, torch.ones(40)*3000, torch.ones(50)*2000)).cuda()\n",
    "vel_test1 = torch.cat((torch.ones(40)*5000, torch.linspace(5000,4000,30), \n",
    "                       torch.ones(30)*4000, torch.linspace(4000,3000,20), \n",
    "                       torch.ones(20)*3000, torch.linspace(3000,2000,30), \n",
    "                       torch.ones(30)*2000)).cuda()\n",
    "#vel_test = torch.from_numpy(sm_vel_new_value)\n",
    "#vel_test = sm_vel_new_value\n",
    "net = RNNCell_FD(dx, dt, isrc, ir, nx, vel)\n",
    "net = net.float().cuda()\n",
    "check_it = -1\n",
    "for i, isrc_items in enumerate(torch.from_numpy(mul_isrc).cuda()):\n",
    "    for indexs, ir_items in enumerate(torch.from_numpy(mul_ir).cuda()):\n",
    "        h_current = torch.zeros(1,1,nx).cuda()  # current wavefield\n",
    "        h_old = torch.zeros(1,1,nx).cuda()      # previous wavefield\n",
    "        print(i, indexs)\n",
    "        for it in range(nt):  # the time, from 0-th to nt-th wavefield\n",
    "            # forward:\n",
    "            h_old, h_current, record = net(src[it], h_current, h_old, isrc_items, ir_items)\n",
    "            seis[i][indexs][it] = record\n",
    "            if it == range(nt)[check_it] and i == 2 and indexs == 3: # plot the check_it-th wavefield\n",
    "                print(h_old.shape, h_current.shape)\n",
    "                plt.figure(figsize=(15,4))\n",
    "                ax3 = plt.subplot(131)\n",
    "                ax3.plot(np.linspace(0 * dx, nx * dx, nx), vel.cpu().numpy())\n",
    "                ax3.set_xlim([0, nx*dx])\n",
    "                ax3.invert_xaxis()\n",
    "\n",
    "                ax1 = plt.subplot(132)\n",
    "                time = np.linspace(0 * dt, nt * dt, nt)\n",
    "                ax1.plot(time, seis[i, indexs, :].detach().cpu())\n",
    "\n",
    "                ax2 = plt.subplot(133)\n",
    "                ax2.plot(np.linspace(0 * dx, nx * dx, nx), h_current[0,0,:].detach().cpu().numpy())\n",
    "                ax2.plot(isrc_items.cpu()*dx, 0, 'r*', markersize=11) # source position\n",
    "                ax2.plot(ir_items.cpu()*dx, 0, 'k^', markersize=8) # receiver position\n",
    "                ax2.set_xlim([0, nx*dx])\n",
    "                ax2.set_xlabel('$Distance(m)$')\n",
    "                ax2.set_ylabel('$Amplitude$')\n",
    "                ax2.set_title(f'$Time\\ Step:\\ {it*dt}s$')\n",
    "                ax2.invert_xaxis()\n",
    "#                 plt.pause(0.5)\n",
    "#                 display.clear_output(wait=True)\n"
   ],
   "outputs": [
    {
     "output_type": "stream",
     "name": "stdout",
     "text": [
      "[180 157 134 111  88  65  42  20]\n",
      "[198 175 152 129 106  83  60  38]\n",
      "0 0\n",
      "0 1\n",
      "0 2\n",
      "0 3\n",
      "0 4\n",
      "0 5\n",
      "0 6\n",
      "0 7\n",
      "1 0\n",
      "1 1\n",
      "1 2\n",
      "1 3\n",
      "1 4\n",
      "1 5\n",
      "1 6\n",
      "1 7\n",
      "2 0\n",
      "2 1\n",
      "2 2\n",
      "2 3\n",
      "torch.Size([1, 1, 200]) torch.Size([1, 1, 200])\n",
      "2 4\n",
      "2 5\n",
      "2 6\n",
      "2 7\n",
      "3 0\n",
      "3 1\n",
      "3 2\n",
      "3 3\n",
      "3 4\n",
      "3 5\n",
      "3 6\n",
      "3 7\n",
      "4 0\n",
      "4 1\n",
      "4 2\n",
      "4 3\n",
      "4 4\n",
      "4 5\n",
      "4 6\n",
      "4 7\n",
      "5 0\n",
      "5 1\n",
      "5 2\n",
      "5 3\n",
      "5 4\n",
      "5 5\n",
      "5 6\n",
      "5 7\n",
      "6 0\n",
      "6 1\n",
      "6 2\n",
      "6 3\n",
      "6 4\n",
      "6 5\n",
      "6 6\n",
      "6 7\n",
      "7 0\n",
      "7 1\n",
      "7 2\n",
      "7 3\n",
      "7 4\n",
      "7 5\n",
      "7 6\n",
      "7 7\n"
     ]
    },
    {
     "output_type": "display_data",
     "data": {
      "text/plain": [
       "<Figure size 1080x288 with 3 Axes>"
      ],
      "image/png": "[encoded data removed]"
     },
     "metadata": {
      "needs_background": "light"
     }
    }
   ],
   "metadata": {}
  },
  {
   "cell_type": "code",
   "execution_count": 59,
   "source": [
    "target = seis # inverstion target\n",
    "\n",
    "# smoothing the true velocity model\n",
    "N = 60\n",
    "weights = np.hanning(N)\n",
    "smooth_vel = np.convolve(weights/weights.sum(), vel.cpu().numpy(), 'same')\n",
    "sm_vel_poly = np.polyfit(np.linspace(0 * dx, nx * dx, nx), vel.cpu().numpy(), 4)\n",
    "sm_vel_value = np.polyval(sm_vel_poly, np.linspace(0 * dx, nx * dx, nx))\n",
    "\n",
    "sm_vel_new_value = sm_vel_value\n",
    "sm_vel_new_value[sm_vel_new_value>5000] = sm_vel_new_value[sm_vel_new_value>5000]*0+5000.\n",
    "sm_vel_new_value[sm_vel_new_value<2000] = sm_vel_new_value[sm_vel_new_value<2000]*0+2000.\n",
    "\n",
    "plt.figure()\n",
    "ax_vel_true = plt.subplot(111)\n",
    "ax_vel_true.plot(np.linspace(0 * dx, nx * dx, nx), vel.cpu().numpy())\n",
    "# ax_vel_true.plot(np.linspace(0 * dx, nx * dx, nx), smooth_vel)\n",
    "# ax_vel_true.plot(np.linspace(0 * dx, nx * dx, nx), sm_vel_value)\n",
    "# the initial velocity model\n",
    "ax_vel_true.plot(np.linspace(0 * dx, nx * dx, nx), sm_vel_new_value)\n",
    "ax_vel_true.invert_xaxis()"
   ],
   "outputs": [
    {
     "output_type": "display_data",
     "data": {
      "text/plain": [
       "<Figure size 432x288 with 1 Axes>"
      ],
      "image/png": "[encoded data removed]"
     },
     "metadata": {
      "needs_background": "light"
     }
    }
   ],
   "metadata": {}
  },
  {
   "cell_type": "code",
   "execution_count": 60,
   "source": [
    "# init velocity\n",
    "sm_vel_new_value = torch.from_numpy(sm_vel_new_value)\n",
    "\n",
    "netInv = RNNCell_FD(dx, dt, isrc, ir, nx, sm_vel_new_value)\n",
    "netInv = netInv.float()\n",
    "if (torch.cuda.is_available()):\n",
    "    netInv = netInv.cuda()"
   ],
   "outputs": [],
   "metadata": {}
  },
  {
   "cell_type": "code",
   "execution_count": 61,
   "source": [
    "optimizer = torch.optim.Adam(netInv.parameters(), lr=10)\n",
    "loss_func = nn.MSELoss()\n",
    "if (torch.cuda.is_available()):\n",
    "    loss_func = loss_func.cuda()"
   ],
   "outputs": [],
   "metadata": {}
  },
  {
   "cell_type": "code",
   "execution_count": null,
   "source": [
    "from torch.autograd import Variable\n",
    "\n",
    "target = target.float()\n",
    "total_loss = []\n",
    "# with torch.autograd.set_detect_anomaly(True):\n",
    "epoch = 200 # epoch: iterations\n",
    "if (torch.cuda.is_available()):\n",
    "    target = target.cuda()\n",
    "    mul_ir = torch.from_numpy(mul_ir).cuda()\n",
    "    mul_isrc = torch.from_numpy(mul_isrc).cuda()\n",
    "for step in range(epoch):\n",
    "    seisInv = Variable(torch.zeros((len(mul_isrc), len(mul_ir),nt)))\n",
    "    if (torch.cuda.is_available()):\n",
    "        seisInv = seisInv.cuda()\n",
    "    print(f'{step}/{epoch}:')\n",
    "    for ii, isrc_items in enumerate(mul_isrc):\n",
    "        for indexs, ir_items in enumerate(mul_ir): \n",
    "            # initialization\n",
    "            h_current_Inv = Variable(torch.zeros(1,1,nx))\n",
    "            h_old_Inv = Variable(torch.zeros(1,1,nx))\n",
    "            if (torch.cuda.is_available()):\n",
    "                h_current_Inv = h_current_Inv.cuda()\n",
    "                h_old_Inv = h_old_Inv.cuda()\n",
    "            for it in range(nt):\n",
    "                # forward:\n",
    "                h_old_Inv, h_current_Inv, seisInv[ii][indexs][it] = netInv(torch.tensor(src[it]), h_current_Inv, h_old_Inv, isrc_items, ir_items)\n",
    "        #             h_old_Inv[it+1,...] = h_old_Inv[it+1,...].detach()\n",
    "        #             h_current_Inv[it+1,...] = h_current_Inv[it+1,...].detach()\n",
    "        #         if it == 0:\n",
    "        #             total_seisInv = seisInv.unsqueeze(0)\n",
    "        #             total_target = torch.cat((target[:(it+1)], torch.zeros(len(target)-len(target[:it+1])))).unsqueeze(0)\n",
    "        #         else:\n",
    "        #             total_seisInv = torch.cat((total_seisInv, seisInv.unsqueeze(0)),0)\n",
    "        #             total_target = torch.cat((total_target, \n",
    "        #                                         torch.cat((target[:(it+1)], torch.zeros(len(target)-len(target[:it+1])))).unsqueeze(0)),0)\n",
    "\n",
    "                #total_target = torch.cat((target[:(it+1)]), torch.zeros(len(target)-len(target[:it+1])))\n",
    "    loss = loss_func(seisInv, target)\n",
    "    total_loss.append(loss.data.cpu().numpy())\n",
    "    optimizer.zero_grad()\n",
    "#     loss.backward() # inverstion\n",
    "    loss.backward(retain_graph=True)\n",
    "    optimizer.step() # update velocity pamarmeter\n",
    "\n",
    "    #plt.clf() # clear axis\n",
    "    plt.figure(figsize=(13,5))\n",
    "    plt.ion()\n",
    "    plt.subplot(131)\n",
    "    seisInvClone = seisInv.clone()\n",
    "    plt.plot(np.linspace(0 * dt, nt * dt, nt), target.detach().cpu().numpy()[0][0], 'k')\n",
    "    plt.plot(np.linspace(0 * dt, nt * dt, nt), seisInvClone.detach().cpu().numpy()[0][0])\n",
    "\n",
    "    plt.subplot(132)\n",
    "    pama = [x for x in netInv.parameters()]\n",
    "    plt.plot(np.linspace(0 * dx, nx * dx, nx), vel.cpu().numpy(), 'k')\n",
    "    pamaClone = pama[0].clone()\n",
    "    for boolean in np.isnan(pamaClone.detach()[0,0,:].numpy()):\n",
    "        if boolean:\n",
    "            for name, p in netInv.named_parameters():\n",
    "                print(name, p)\n",
    "            sys.exit(1)\n",
    "    plt.plot(np.linspace(0 * dx, nx * dx, nx), np.sqrt(pamaClone.detach()[0,0,:].cpu().numpy()/dt))\n",
    "\n",
    "    plt.subplot(133)\n",
    "    plt.plot(total_loss)\n",
    "    plt.title(f'{step}')\n",
    "\n",
    "    plt.tight_layout()\n",
    "    plt.draw()\n",
    "    plt.pause(3)\n",
    "    display.clear_output(wait=True)\n",
    "    plt.ioff()\n",
    "    plt.show()"
   ],
   "outputs": [
    {
     "output_type": "stream",
     "name": "stdout",
     "text": [
      "4/200:\n"
     ]
    }
   ],
   "metadata": {}
  },
  {
   "cell_type": "code",
   "execution_count": 23,
   "source": [
    "for name, p in netInv.named_parameters():\n",
    "    print(name, p)"
   ],
   "outputs": [
    {
     "output_type": "stream",
     "name": "stdout",
     "text": [
      "vel Parameter containing:\n",
      "tensor([[[nan, nan, nan, nan, nan, nan, nan, nan, nan, nan, nan, nan, nan, nan, nan, nan, nan, nan, nan, nan, nan, nan, nan,\n",
      "          nan, nan, nan, nan, nan, nan, nan, nan, nan, nan, nan, nan, nan, nan, nan, nan, nan, nan, nan, nan, nan, nan, nan,\n",
      "          nan, nan, nan, nan, nan, nan, nan, nan, nan, nan, nan, nan, nan, nan, nan, nan, nan, nan, nan, nan, nan, nan, nan,\n",
      "          nan, nan, nan, nan, nan, nan, nan, nan, nan, nan, nan, nan, nan, nan, nan, nan, nan, nan, nan, nan, nan, nan, nan,\n",
      "          nan, nan, nan, nan, nan, nan, nan, nan, nan, nan, nan, nan, nan, nan, nan, nan, nan, nan, nan, nan, nan, nan, nan,\n",
      "          nan, nan, nan, nan, nan, nan, nan, nan, nan, nan, nan, nan, nan, nan, nan, nan, nan, nan, nan, nan, nan, nan, nan,\n",
      "          nan, nan, nan, nan, nan, nan, nan, nan, nan, nan, nan, nan, nan, nan, nan, nan, nan, nan, nan, nan, nan, nan, nan,\n",
      "          nan, nan, nan, nan, nan, nan, nan, nan, nan, nan, nan, nan, nan, nan, nan, nan, nan, nan, nan, nan, nan, nan, nan,\n",
      "          nan, nan, nan, nan, nan, nan, nan, nan, nan, nan, nan, nan, nan, nan, nan, nan]]],\n",
      "       requires_grad=True)\n",
      "weight_conv Parameter containing:\n",
      "tensor([[[ 0.0400, -0.0800,  0.0400]]])\n"
     ]
    }
   ],
   "metadata": {}
  },
  {
   "cell_type": "code",
   "execution_count": 24,
   "source": [
    "netInv.vel.grad # the velocity pamarmeter gradient"
   ],
   "outputs": [
    {
     "output_type": "execute_result",
     "data": {
      "text/plain": [
       "tensor([[[nan, nan, nan, nan, nan, nan, nan, nan, nan, nan, nan, nan, nan, nan, nan, nan, nan, nan, nan, nan, nan, nan, nan,\n",
       "          nan, nan, nan, nan, nan, nan, nan, nan, nan, nan, nan, nan, nan, nan, nan, nan, nan, nan, nan, nan, nan, nan, nan,\n",
       "          nan, nan, nan, nan, nan, nan, nan, nan, nan, nan, nan, nan, nan, nan, nan, nan, nan, nan, nan, nan, nan, nan, nan,\n",
       "          nan, nan, nan, nan, nan, nan, nan, nan, nan, nan, nan, nan, nan, nan, nan, nan, nan, nan, nan, nan, nan, nan, nan,\n",
       "          nan, nan, nan, nan, nan, nan, nan, nan, nan, nan, nan, nan, nan, nan, nan, nan, nan, nan, nan, nan, nan, nan, nan,\n",
       "          nan, nan, nan, nan, nan, nan, nan, nan, nan, nan, nan, nan, nan, nan, nan, nan, nan, nan, nan, nan, nan, nan, nan,\n",
       "          nan, nan, nan, nan, nan, nan, nan, nan, nan, nan, nan, nan, nan, nan, nan, nan, nan, nan, nan, nan, nan, nan, nan,\n",
       "          nan, nan, nan, nan, nan, nan, nan, nan, nan, nan, nan, nan, nan, nan, nan, nan, nan, nan, nan, nan, nan, nan, nan,\n",
       "          nan, nan, nan, nan, nan, nan, nan, nan, nan, nan, nan, nan, nan, nan, nan, nan]]])"
      ]
     },
     "metadata": {},
     "execution_count": 24
    }
   ],
   "metadata": {}
  },
  {
   "cell_type": "code",
   "execution_count": null,
   "source": [],
   "outputs": [],
   "metadata": {}
  }
 ],
 "metadata": {
  "kernelspec": {
   "display_name": "Python 3 (ipykernel)",
   "language": "python",
   "name": "python3"
  },
  "language_info": {
   "codemirror_mode": {
    "name": "ipython",
    "version": 3
   },
   "file_extension": ".py",
   "mimetype": "text/x-python",
   "name": "python",
   "nbconvert_exporter": "python",
   "pygments_lexer": "ipython3",
   "version": "3.8.10"
  }
 },
 "nbformat": 4,
 "nbformat_minor": 5
}